{
 "cells": [
  {
   "cell_type": "code",
   "execution_count": 1,
   "metadata": {},
   "outputs": [],
   "source": [
    "import word2vec"
   ]
  },
  {
   "cell_type": "code",
   "execution_count": null,
   "metadata": {},
   "outputs": [],
   "source": []
  },
  {
   "cell_type": "code",
   "execution_count": 2,
   "metadata": {},
   "outputs": [],
   "source": [
    "word2vec.word2phrase('/Users/Korolevich/Downloads/text8','/Users/Korolevich/Downloads/text8-phrases')"
   ]
  },
  {
   "cell_type": "code",
   "execution_count": 3,
   "metadata": {},
   "outputs": [],
   "source": [
    "word2vec.word2vec('/Users/Korolevich/Downloads/text8-phrases', '/Users/Korolevich/Downloads/text8.bin', size=100)"
   ]
  },
  {
   "cell_type": "code",
   "execution_count": 4,
   "metadata": {},
   "outputs": [],
   "source": [
    "model = word2vec.load('/Users/Korolevich/Downloads/text8.bin')"
   ]
  },
  {
   "cell_type": "code",
   "execution_count": 5,
   "metadata": {},
   "outputs": [
    {
     "data": {
      "text/plain": [
       "array(['</s>', 'the', 'of', ..., 'dupree', 'rauchbier', 'erythropoietin'],\n",
       "      dtype='<U78')"
      ]
     },
     "execution_count": 5,
     "metadata": {},
     "output_type": "execute_result"
    }
   ],
   "source": [
    "model.vocab"
   ]
  },
  {
   "cell_type": "code",
   "execution_count": 6,
   "metadata": {},
   "outputs": [
    {
     "data": {
      "text/plain": [
       "98331"
      ]
     },
     "execution_count": 6,
     "metadata": {},
     "output_type": "execute_result"
    }
   ],
   "source": [
    "len(model.vocab)"
   ]
  },
  {
   "cell_type": "code",
   "execution_count": 7,
   "metadata": {},
   "outputs": [],
   "source": [
    "word2vec.word2clusters('/Users/Korolevich/Downloads/text8', '/Users/Korolevich/Downloads/text8-cluster.txt', 100)"
   ]
  },
  {
   "cell_type": "code",
   "execution_count": 8,
   "metadata": {},
   "outputs": [],
   "source": [
    "index, metricks = model.analogy(pos=['king', 'woman'], neg=['man'], n=10)"
   ]
  },
  {
   "cell_type": "code",
   "execution_count": 11,
   "metadata": {},
   "outputs": [
    {
     "data": {
      "text/plain": [
       "[('prince', 0.29507280348527387),\n",
       " ('emperor', 0.2877597881401196),\n",
       " ('daughter', 0.2876185028877837),\n",
       " ('son', 0.2856018287865903),\n",
       " ('roman_emperor', 0.28382320021255975),\n",
       " ('bishop', 0.2813984637869756),\n",
       " ('queen', 0.27851465983896284),\n",
       " ('darius', 0.27595440379324),\n",
       " ('archbishop', 0.27459987270918973),\n",
       " ('king_louis', 0.27268909485361825)]"
      ]
     },
     "execution_count": 11,
     "metadata": {},
     "output_type": "execute_result"
    }
   ],
   "source": [
    "model.generate_response(index, metricks).tolist()"
   ]
  },
  {
   "cell_type": "code",
   "execution_count": 13,
   "metadata": {},
   "outputs": [],
   "source": [
    "clusters = word2vec.load_clusters('/Users/Korolevich/Downloads/text8-cluster.txt')"
   ]
  },
  {
   "cell_type": "code",
   "execution_count": 14,
   "metadata": {},
   "outputs": [],
   "source": [
    "model.clusters = clusters"
   ]
  },
  {
   "cell_type": "code",
   "execution_count": 16,
   "metadata": {},
   "outputs": [
    {
     "data": {
      "text/plain": [
       "[('berlin', 0.26900828830974344, 19),\n",
       " ('toronto', 0.252915717146837, 53),\n",
       " ('gymnasium', 0.24329825142153813, 41),\n",
       " ('hyderabad', 0.24314400757511234, 80),\n",
       " ('leipzig', 0.2427651128092015, 96),\n",
       " ('grammar_school', 0.2411283573652857, 30),\n",
       " ('london', 0.24070564610289, 63),\n",
       " ('berkeley', 0.24060426016747755, 37),\n",
       " ('officially_opened', 0.23910152971784526, 92),\n",
       " ('birmingham', 0.2386247248105625, 85)]"
      ]
     },
     "execution_count": 16,
     "metadata": {},
     "output_type": "execute_result"
    }
   ],
   "source": [
    "index, metricks = model.analogy(pos=['paris', 'germany'], neg=['france'], n=10)\n",
    "model.generate_response(index, metricks).tolist()"
   ]
  },
  {
   "cell_type": "code",
   "execution_count": null,
   "metadata": {},
   "outputs": [],
   "source": []
  },
  {
   "cell_type": "code",
   "execution_count": 19,
   "metadata": {},
   "outputs": [
    {
     "data": {
      "text/plain": [
       "array([b'in', b'to', b'by', b'on', b'from', b'at', b'after', b'when',\n",
       "       b'into', b'between', b'over', b'during', b'up', b'while', b'where',\n",
       "       b'then', b'under', b'out', b'since', b'through', b'before',\n",
       "       b'until', b'around', b'within', b'without', b'back', b'down',\n",
       "       b'off', b'never', b'further', b'upon', b'once', b'instead',\n",
       "       b'throughout', b'despite', b'eventually', b're', b'outside',\n",
       "       b'soon', b'away', b'across', b'already', b'towards', b'finally',\n",
       "       b'behind', b'quickly', b'beyond', b'immediately', b'initially',\n",
       "       b'toward', b'subsequently', b'forward', b'ultimately', b'apart',\n",
       "       b'gradually', b'newly', b'forth', b'afterwards', b'whilst',\n",
       "       b'independently', b'seriously', b'thereafter', b'till', b'poorly',\n",
       "       b'permanently', b'marking', b'afterward', b'bankrupt', b'abruptly',\n",
       "       b'swiftly', b'retrospect', b'await', b'onslaught',\n",
       "       b'discriminatory', b'devoting', b'gruesome', b'timetable', b'auk',\n",
       "       b'scorched', b'relentlessly', b'cripple', b'waff', b'ablaze',\n",
       "       b'timbers', b'workday', b'tireless', b'inexplicably', b'dey',\n",
       "       b'idyllic', b'unharmed', b'standstill', b'symbolising',\n",
       "       b'crankshafts', b'afoul', b'bogged', b'pillaging', b'timepieces',\n",
       "       b'punks', b'reassure', b'blacklist', b'miserably', b'throats',\n",
       "       b'mnr', b'overdue', b'counterbalance', b'sidewise', b'wayside',\n",
       "       b'connectionless', b'yusupov', b'teaspoon', b'earthworks',\n",
       "       b'railtrack', b'gotthold', b'stabs', b'providential', b'insolvent',\n",
       "       b'sweater', b'mou', b'purist', b'footballing', b'tammuz',\n",
       "       b'undiluted', b'polytechnics', b'culpa', b'gigantism', b'bluesy',\n",
       "       b'brueys', b'flamel', b'indisputably', b'offstage', b'dreher',\n",
       "       b'minis', b'potty', b'imd', b'redevelop', b'laboriously',\n",
       "       b'curators', b'crutches', b'einaudi', b'hoisting', b'liveries',\n",
       "       b'spidey', b'eddies', b'nyt', b'gassan', b'bosnians', b'kleiner',\n",
       "       b'teton', b'uncompleted', b'basaltic', b'inadvertantly', b'fain',\n",
       "       b'alypius', b'demilitarization', b'synthesiser', b'miserere',\n",
       "       b'albrechtsberger', b'fugees', b'endemol', b'wert', b'pytheas',\n",
       "       b'achelous', b'noncommunist', b'dethrone', b'fallow', b'untill',\n",
       "       b'reactivate', b'cedega', b'soweto', b'pent', b'triptych',\n",
       "       b'khana', b'greening', b'mitla', b'fortiori', b'hothouse',\n",
       "       b'gamla', b'hefty', b'nabucco', b'discontinues', b'flagships',\n",
       "       b'cobblers', b'voyeurism', b'cilician', b'disfellowshipping',\n",
       "       b'rallis', b'abuts', b'reconstitute', b'aptitudes', b'ngurunderi',\n",
       "       b'asunder', b'concentrator', b'trucker', b'reinvigorate', b'mauer',\n",
       "       b'jasta', b'shirin', b'unveil', b'gloire', b'jats', b'sadao'],\n",
       "      dtype=object)"
      ]
     },
     "execution_count": 19,
     "metadata": {},
     "output_type": "execute_result"
    }
   ],
   "source": [
    "clusters.get_words_on_cluster(8)"
   ]
  },
  {
   "cell_type": "code",
   "execution_count": null,
   "metadata": {},
   "outputs": [],
   "source": []
  }
 ],
 "metadata": {
  "kernelspec": {
   "display_name": "Python 3",
   "language": "python",
   "name": "python3"
  },
  "language_info": {
   "codemirror_mode": {
    "name": "ipython",
    "version": 3
   },
   "file_extension": ".py",
   "mimetype": "text/x-python",
   "name": "python",
   "nbconvert_exporter": "python",
   "pygments_lexer": "ipython3",
   "version": "3.6.4"
  }
 },
 "nbformat": 4,
 "nbformat_minor": 2
}
